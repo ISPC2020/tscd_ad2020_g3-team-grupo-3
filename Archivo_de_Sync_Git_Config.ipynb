{
  "nbformat": 4,
  "nbformat_minor": 0,
  "metadata": {
    "colab": {
      "name": "Archivo_de_Sync_Git_Config.ipynb",
      "provenance": [],
      "collapsed_sections": []
    },
    "kernelspec": {
      "name": "python3",
      "display_name": "Python 3"
    }
  },
  "cells": [
    {
      "cell_type": "markdown",
      "metadata": {
        "id": "7f3E4Jw7HFvr"
      },
      "source": [
        "# CONTENT:\n",
        "# git init\n",
        "# git clone\n",
        "# git remote\n",
        "# git status\n",
        "# git add\n",
        "# git commit\n",
        "# git config\n",
        "# git push"
      ]
    },
    {
      "cell_type": "code",
      "metadata": {
        "colab": {
          "base_uri": "https://localhost:8080/"
        },
        "id": "WWvP89LYl2Yn",
        "outputId": "a71d2de7-322a-4c91-f3fa-9b3017fca9b9"
      },
      "source": [
        "# VER COMANDOS DE GIT Y SU FUNCIONALIDAD\n",
        "! git"
      ],
      "execution_count": null,
      "outputs": [
        {
          "output_type": "stream",
          "name": "stdout",
          "text": [
            "usage: git [--version] [--help] [-C <path>] [-c <name>=<value>]\n",
            "           [--exec-path[=<path>]] [--html-path] [--man-path] [--info-path]\n",
            "           [-p | --paginate | --no-pager] [--no-replace-objects] [--bare]\n",
            "           [--git-dir=<path>] [--work-tree=<path>] [--namespace=<name>]\n",
            "           <command> [<args>]\n",
            "\n",
            "These are common Git commands used in various situations:\n",
            "\n",
            "start a working area (see also: git help tutorial)\n",
            "   clone      Clone a repository into a new directory\n",
            "   init       Create an empty Git repository or reinitialize an existing one\n",
            "\n",
            "work on the current change (see also: git help everyday)\n",
            "   add        Add file contents to the index\n",
            "   mv         Move or rename a file, a directory, or a symlink\n",
            "   reset      Reset current HEAD to the specified state\n",
            "   rm         Remove files from the working tree and from the index\n",
            "\n",
            "examine the history and state (see also: git help revisions)\n",
            "   bisect     Use binary search to find the commit that introduced a bug\n",
            "   grep       Print lines matching a pattern\n",
            "   log        Show commit logs\n",
            "   show       Show various types of objects\n",
            "   status     Show the working tree status\n",
            "\n",
            "grow, mark and tweak your common history\n",
            "   branch     List, create, or delete branches\n",
            "   checkout   Switch branches or restore working tree files\n",
            "   commit     Record changes to the repository\n",
            "   diff       Show changes between commits, commit and working tree, etc\n",
            "   merge      Join two or more development histories together\n",
            "   rebase     Reapply commits on top of another base tip\n",
            "   tag        Create, list, delete or verify a tag object signed with GPG\n",
            "\n",
            "collaborate (see also: git help workflows)\n",
            "   fetch      Download objects and refs from another repository\n",
            "   pull       Fetch from and integrate with another repository or a local branch\n",
            "   push       Update remote refs along with associated objects\n",
            "\n",
            "'git help -a' and 'git help -g' list available subcommands and some\n",
            "concept guides. See 'git help <command>' or 'git help <concept>'\n",
            "to read about a specific subcommand or concept.\n"
          ]
        }
      ]
    },
    {
      "cell_type": "code",
      "metadata": {
        "colab": {
          "base_uri": "https://localhost:8080/"
        },
        "id": "2t8ZGYCqATF8",
        "outputId": "001a20e9-57c6-4589-b33a-2595782d8e2f"
      },
      "source": [
        "# INICIALIZA EL REPOSITORIO VACIO\n",
        "! git init"
      ],
      "execution_count": null,
      "outputs": [
        {
          "output_type": "stream",
          "name": "stdout",
          "text": [
            "Reinitialized existing Git repository in /content/.git/\n"
          ]
        }
      ]
    },
    {
      "cell_type": "code",
      "metadata": {
        "colab": {
          "base_uri": "https://localhost:8080/"
        },
        "id": "zT3S5LmZUrMf",
        "outputId": "abae1db6-bb1a-47e1-f9f3-64dbcbf8c655"
      },
      "source": [
        "# CON ESTA LINEA IMPORTAMOS LA LIBRERIA DE DRIVE.\n",
        "# SOLICITARA QUE INGRESES A UNA URL, INGRESAR A LA URL, SOLICITA VALIDAR LA CUENTA DE GOOGLE\n",
        "# UNA VEZ VALIDADO EN GOOGLE ENTREGARA UN CODIGO DE AUTORIZACION QUE SE DEBE COPIAR.\n",
        "# VOLVEMOS A ESTA CELDA Y EN EL INPUT \" Enter your authorization code: \"  PEGAR EL CODIGO y TECLA ENTER.\n",
        "# AUTORIZAMOS A COLAB CONECTARSE AL DRIVE DE LA CUENTA.\n",
        "from google.colab import drive\n",
        "drive.mount('/content/drive')"
      ],
      "execution_count": null,
      "outputs": [
        {
          "output_type": "stream",
          "name": "stdout",
          "text": [
            "Mounted at /content/drive\n"
          ]
        }
      ]
    },
    {
      "cell_type": "code",
      "metadata": {
        "colab": {
          "base_uri": "https://localhost:8080/"
        },
        "id": "Wtrce4grAW8v",
        "outputId": "f8f6ef85-571d-4dd1-d8d7-638e4f5833bf"
      },
      "source": [
        "# CLONAMOS EL REPOSITORIO CON EL COMANDO !guit clone URL_DEL_REPOSITORIO\n",
        "! git clone https://github.com/ISPC2020/tscd_ad2020_g3-team-grupo-3.git "
      ],
      "execution_count": null,
      "outputs": [
        {
          "output_type": "stream",
          "name": "stdout",
          "text": [
            "Cloning into 'tscd_ad2020_g3-team-grupo-3'...\n",
            "remote: Enumerating objects: 38, done.\u001b[K\n",
            "remote: Counting objects: 100% (38/38), done.\u001b[K\n",
            "remote: Compressing objects: 100% (24/24), done.\u001b[K\n",
            "remote: Total 38 (delta 9), reused 30 (delta 6), pack-reused 0\u001b[K\n",
            "Unpacking objects: 100% (38/38), done.\n"
          ]
        }
      ]
    },
    {
      "cell_type": "code",
      "metadata": {
        "colab": {
          "base_uri": "https://localhost:8080/"
        },
        "id": "Hk-KxVKeki_p",
        "outputId": "eb263711-c9fc-4a43-e154-ecbba05c35a3"
      },
      "source": [
        "# COMANDO LINUX PERMITE VER EN QUE CARPETA ESTAMOS POSICIONADOS.\n",
        "# NOS INTERESA ESTAR EN LA CARPETA DEL REPOSITORIO RECIENTEMENTE CLONADO\n",
        "! pwd #CODIGO LINUX REVISAR"
      ],
      "execution_count": null,
      "outputs": [
        {
          "output_type": "stream",
          "name": "stdout",
          "text": [
            "/content/tscd_ad2020_g3-team-grupo-3\n"
          ]
        }
      ]
    },
    {
      "cell_type": "code",
      "metadata": {
        "colab": {
          "base_uri": "https://localhost:8080/"
        },
        "id": "-X64ODuLAgss",
        "outputId": "8a0ab022-c20b-4902-881f-cab8004e1213"
      },
      "source": [
        "# SI NO ESTAMOS EN LA CARPETA DEL REPO PODEMOS NAVEGAR LOS DIRECTORIOS\n",
        "# aqui estan algunos comandos para su consulta https://blog.desdelinux.net/mas-de-400-comandos-para-gnulinux-que-deberias-conocer/\n",
        "# %cd URL_DEL_DIRECTORIO\n",
        "%cd tscd_ad2020_g3-team-grupo-3/"
      ],
      "execution_count": null,
      "outputs": [
        {
          "output_type": "stream",
          "name": "stdout",
          "text": [
            "/content/tscd_ad2020_g3-team-grupo-3\n"
          ]
        }
      ]
    },
    {
      "cell_type": "code",
      "metadata": {
        "colab": {
          "base_uri": "https://localhost:8080/"
        },
        "id": "WQcHxaXBAlIL",
        "outputId": "470b5f72-8a79-442c-94cc-77932fd2e21d"
      },
      "source": [
        "# El comando git remote te permite crear, ver y eliminar conexiones con otros repositorios. Las conexiones remotas se asemejan más a marcadores que a enlaces directos con otros repositorios.\n",
        "# La salida de este comando nos muestra los repositorios conectados, y debemos ver los del repositorio en cuestion.\n",
        "! git remote -v"
      ],
      "execution_count": null,
      "outputs": [
        {
          "output_type": "stream",
          "name": "stdout",
          "text": [
            "origin\thttps://github.com/ISPC2020/tscd_ad2020_g3-team-grupo-3.git (fetch)\n",
            "origin\thttps://github.com/ISPC2020/tscd_ad2020_g3-team-grupo-3.git (push)\n"
          ]
        }
      ]
    },
    {
      "cell_type": "code",
      "metadata": {
        "colab": {
          "base_uri": "https://localhost:8080/"
        },
        "collapsed": true,
        "id": "3i_mzApnAoAM",
        "outputId": "468c712d-87c2-45e8-fa28-d16b9e3e6cdd"
      },
      "source": [
        "# ESTE COMANDO NOS PERMITE VER EL ESTATUS DE LA CONEXION CON GIT\n",
        "# EN EL CASO DE RECIBIR UN MENSAJE \"Untracked files:\" quiere decir que no esta haciendo el trackeo de version.\n",
        "# SOLUCION 1: VALIDAR que estamos en el directorio con !pwd, y asegurarnos que estamos en el directorio y este EXISTE. si el error persiste.\n",
        "# SOLUCION 2: SI EL DIRECTORIO NO EXISTE => VOLVER A CLONAR. SI EL DIRECTORIO EXISTE  ELIMINAR \"!rmdir NOMBRE_CARPETA \" Y VOLVER A CLONAR \n",
        "# SOLUCION 3: \"!GIT ADD .\" (sin las comillas y el punto)\n",
        "# FUINCIONA OK SI LE DICE \"On branch main Your branch is up to date with 'origin/main'.\"\n",
        "! git status"
      ],
      "execution_count": null,
      "outputs": [
        {
          "output_type": "stream",
          "name": "stdout",
          "text": [
            "On branch main\n",
            "Your branch is up to date with 'origin/main'.\n",
            "\n",
            "nothing to commit, working tree clean\n"
          ]
        }
      ]
    },
    {
      "cell_type": "code",
      "metadata": {
        "id": "VgbVTOGJA-TQ"
      },
      "source": [
        "# AGREGA ALGO QUE NOSE jajaja\n",
        "! git add -A"
      ],
      "execution_count": null,
      "outputs": []
    },
    {
      "cell_type": "code",
      "metadata": {
        "colab": {
          "base_uri": "https://localhost:8080/"
        },
        "id": "1PGQcsnkBKpO",
        "outputId": "80c91300-1eaa-4c6f-aa4d-b53e91e8e8c5"
      },
      "source": [
        "! git status"
      ],
      "execution_count": null,
      "outputs": [
        {
          "output_type": "stream",
          "name": "stdout",
          "text": [
            "On branch main\n",
            "Your branch is up to date with 'origin/main'.\n",
            "\n",
            "nothing to commit, working tree clean\n"
          ]
        }
      ]
    },
    {
      "cell_type": "code",
      "metadata": {
        "colab": {
          "base_uri": "https://localhost:8080/"
        },
        "id": "QJjMYnNNBbsR",
        "outputId": "6b140a3d-cd26-451f-df4a-5f4cfe887af4"
      },
      "source": [
        "# CON ESTE COMANDO HACEMOS EL PRIMER COMMIT, pero todavia no tiene impacto en el Repo-Remoto\n",
        "# DEBEMOS PASAR LA INFORMACION PARA LOGUEARNOS\n",
        "! git commit -a -m \"first commit\""
      ],
      "execution_count": null,
      "outputs": [
        {
          "output_type": "stream",
          "name": "stdout",
          "text": [
            "\n",
            "*** Please tell me who you are.\n",
            "\n",
            "Run\n",
            "\n",
            "  git config --global user.email \"you@example.com\"\n",
            "  git config --global user.name \"Your Name\"\n",
            "\n",
            "to set your account's default identity.\n",
            "Omit --global to set the identity only in this repository.\n",
            "\n",
            "fatal: unable to auto-detect email address (got 'root@bc14f837344c.(none)')\n"
          ]
        }
      ]
    },
    {
      "cell_type": "code",
      "metadata": {
        "id": "QUxX-6cRBnHU"
      },
      "source": [
        "# AHORA CONFIGURAMOS EL LOGIN DE COLAB A GIT\n",
        "! git config --global user.email \"octagomez.cba@gmail.com\" #MAIL DE LOGIN\n",
        "! git config --global user.name \"octagomez\" #NOMBRE EL PERFIL NO ES TAN RELEVANTE\n"
      ],
      "execution_count": null,
      "outputs": []
    },
    {
      "cell_type": "code",
      "metadata": {
        "colab": {
          "base_uri": "https://localhost:8080/"
        },
        "id": "qyvccUX1BzCu",
        "outputId": "22a0041b-c557-4ac5-b47a-5463bab96d9f"
      },
      "source": [
        "# PODEMOS OBSERVAR COMO SE A CONFIGURADO GIT\n",
        "! git config --list"
      ],
      "execution_count": null,
      "outputs": [
        {
          "output_type": "stream",
          "name": "stdout",
          "text": [
            "user.email=octagomez.cba@gmail.com\n",
            "user.name=octagomez\n",
            "core.repositoryformatversion=0\n",
            "core.filemode=true\n",
            "core.bare=false\n",
            "core.logallrefupdates=true\n",
            "remote.origin.url=https://github.com/ISPC2020/tscd_ad2020_g3-team-grupo-3.git\n",
            "remote.origin.fetch=+refs/heads/*:refs/remotes/origin/*\n",
            "branch.main.remote=origin\n",
            "branch.main.merge=refs/heads/main\n"
          ]
        }
      ]
    },
    {
      "cell_type": "code",
      "metadata": {
        "colab": {
          "base_uri": "https://localhost:8080/"
        },
        "id": "egte98bUB2bQ",
        "outputId": "6292842e-8f1b-4b5a-9e97-e2a908d34b16"
      },
      "source": [
        "# TOKEN DEL PERFIL DE GIT\n",
        "# buscamos el token desde el sitio de git.\n",
        "# despues de ingresar a git conusuario y contraseña, nos vamos al perfil arriba a la derecha se desplega un menu y a settings\n",
        "# EN el menu de la izq escroleamos (abajo) hasta DEVELOPER SETTINGS y entramos ahi.\n",
        "# En el nuevo menu izq vamos a \"Personal access tokens\"  y debemos generar un token, en la pantalla siguiente debera especificar un nombre al TOKEN y chequee todos los checkbox, ya tenemos generado uno generamos otro.\n",
        "# copiamos el token y lo pegamos en el INPUT que se muestra al ejecutar esta celda y ENTER.\n",
        "from getpass import getpass\n",
        "password = getpass(\"Enter TOKEN: \")"
      ],
      "execution_count": null,
      "outputs": [
        {
          "name": "stdout",
          "output_type": "stream",
          "text": [
            "Enter TOKEN: ··········\n"
          ]
        }
      ]
    },
    {
      "cell_type": "code",
      "metadata": {
        "id": "G--Nm0yHCE-L"
      },
      "source": [
        "# MODIFICAMOS LA URL con la URL del repositorio\n",
        "# Ejemplo:esta es la url de un proyecto: https://github.com/octagomez/Practica_algebra_iefi.git\n",
        "# y necesitamos copiar todo lo que esta a posterior de github.com/ es decir \"octagomez/Practica_algebra_iefi.git\"\n",
        "# la url se compone de: Dueño del repo en este caso \"octagomez\" y el nombre del repo \"Practica_algebra_iefi.git\" separados por un / \n",
        "# Estos 2 datos los vamos a llamar \"cola de url\" y debemos copletar esta URL con su cola correspondiente.\n",
        "# https://$password@github.com/octagomez/Practica_algebra_iefi.git\n",
        "# NOTA: el token esta guardado en la variable $password que definimos en la celda anterior.\n",
        "!git remote add origin https://$password@github.com/ISPC2020/tscd_ad2020_g3-team-grupo-3.git\n",
        "\n",
        "# ERRORES\n",
        "# si el error le dice que \"fatal: remote origin already exists.\" hay que eliminarlo y volver a crear\n",
        "# HAY QUE eliminar el repo con este codigo # !git remote rm origin # ELIMINA EL origin y volver a ejecutar\n"
      ],
      "execution_count": null,
      "outputs": []
    },
    {
      "cell_type": "code",
      "metadata": {
        "id": "L7J2bLyinzvN"
      },
      "source": [
        "# ELIMINA EL REPO LOCAL si la sentencia anterior informa que ya existe\n",
        "# !git remote rm origin "
      ],
      "execution_count": null,
      "outputs": []
    },
    {
      "cell_type": "code",
      "metadata": {
        "colab": {
          "base_uri": "https://localhost:8080/"
        },
        "id": "rD9MAJ2mDy-M",
        "outputId": "3b4574b7-34d7-4d11-ac31-d7511dadb316"
      },
      "source": [
        "! git commit -a -m \"first commit\""
      ],
      "execution_count": null,
      "outputs": [
        {
          "output_type": "stream",
          "name": "stdout",
          "text": [
            "On branch main\n",
            "nothing to commit, working tree clean\n"
          ]
        }
      ]
    },
    {
      "cell_type": "code",
      "metadata": {
        "id": "iK8_giw3o3jM"
      },
      "source": [
        "# SI DA ERROR el commit puede ser QUE NO ESTA CONFIGURADO VOLVEMOS A LA CELDA 11\n",
        "! git config --global user.email \"octagomez.cba@gmail.com\" #MAIL DE LOGIN\n",
        "! git config --global user.name \"octagomez\" #NOMBRE EL PERFIL NO ES TAN RELEVANTE"
      ],
      "execution_count": null,
      "outputs": []
    },
    {
      "cell_type": "code",
      "metadata": {
        "colab": {
          "base_uri": "https://localhost:8080/"
        },
        "id": "HG2hs8-utelP",
        "outputId": "d03508fa-a36d-4351-aa28-143637e58f08"
      },
      "source": [
        "# Vemos el estatus\n",
        "! git status"
      ],
      "execution_count": null,
      "outputs": [
        {
          "output_type": "stream",
          "name": "stdout",
          "text": [
            "On branch main\n",
            "nothing to commit, working tree clean\n"
          ]
        }
      ]
    },
    {
      "cell_type": "code",
      "metadata": {
        "colab": {
          "base_uri": "https://localhost:8080/"
        },
        "id": "UXiA2zOyCgtQ",
        "outputId": "71121636-436c-4293-ba9a-4671e10fa9ae"
      },
      "source": [
        "# hacemos un pull de la rama main (si da error verificar si se llama main o master)\n",
        "! git pull origin main \n",
        "# SI CORRE BIEN ESTO QUIERE DECIR QUE YA ESTA VINCULADO EL REPO CON COLAB"
      ],
      "execution_count": null,
      "outputs": [
        {
          "output_type": "stream",
          "name": "stdout",
          "text": [
            "From https://github.com/ISPC2020/tscd_ad2020_g3-team-grupo-3\n",
            " * branch            main       -> FETCH_HEAD\n",
            " * [new branch]      main       -> origin/main\n",
            "Already up to date.\n"
          ]
        }
      ]
    },
    {
      "cell_type": "code",
      "metadata": {
        "id": "iStFhCi8CwV4"
      },
      "source": [
        "! git log"
      ],
      "execution_count": null,
      "outputs": []
    },
    {
      "cell_type": "code",
      "metadata": {
        "colab": {
          "base_uri": "https://localhost:8080/"
        },
        "id": "wWn0mfFNOmza",
        "outputId": "c2be47e1-b4e8-4034-9ccc-c74e9d078baa"
      },
      "source": [
        "!git status"
      ],
      "execution_count": null,
      "outputs": [
        {
          "output_type": "stream",
          "name": "stdout",
          "text": [
            "On branch main\n",
            "nothing to commit, working tree clean\n"
          ]
        }
      ]
    },
    {
      "cell_type": "markdown",
      "metadata": {
        "id": "HdssVzeXOtWU"
      },
      "source": [
        "### **INSTALACION DE DVC**"
      ]
    },
    {
      "cell_type": "code",
      "metadata": {
        "id": "JZ-4FMcfOMSF"
      },
      "source": [
        "# INSTALAMOS EL DVC en el directorio del repo local. \n",
        "# una vez finalizado nos solicita reiniciar el Kernel\n",
        "!pip install dvc"
      ],
      "execution_count": null,
      "outputs": []
    },
    {
      "cell_type": "markdown",
      "metadata": {
        "id": "LAPz9EMHO-wr"
      },
      "source": [
        "Luego reiniciar el Kernel\n",
        "Ahora seguimos ejecutando"
      ]
    },
    {
      "cell_type": "code",
      "metadata": {
        "colab": {
          "base_uri": "https://localhost:8080/"
        },
        "id": "C9EeFkMCO-Em",
        "outputId": "942ea741-6f4e-4f62-a88a-5bb0dd26497c"
      },
      "source": [
        "# INICIALIZAMOS DVC EN EL REPO LOCAL\n",
        "!dvc init"
      ],
      "execution_count": null,
      "outputs": [
        {
          "output_type": "stream",
          "name": "stdout",
          "text": [
            "\u001b[31mERROR\u001b[39m: failed to initiate DVC - '.dvc' exists. Use `-f` to force.\n",
            "\u001b[0m"
          ]
        }
      ]
    },
    {
      "cell_type": "code",
      "metadata": {
        "colab": {
          "base_uri": "https://localhost:8080/"
        },
        "id": "7t32YJM9sJ7t",
        "outputId": "6dfaf12e-e36f-409e-cb4d-cc9a3629f1c4"
      },
      "source": [
        "# Listamos todos los archivos en el directorio (Tambien los ocultos) \n",
        "# ahora se vera una carpeta .dvc como se observa en la ultima ejecucion \n",
        "!ls -als"
      ],
      "execution_count": null,
      "outputs": [
        {
          "output_type": "stream",
          "name": "stdout",
          "text": [
            "total 32\n",
            "4 drwxr-xr-x 4 root root 4096 Nov  4 19:31 .\n",
            "4 drwxr-xr-x 1 root root 4096 Nov  4 19:31 ..\n",
            "4 drwxr-xr-x 3 root root 4096 Nov  4 19:31 .dvc\n",
            "4 -rw-r--r-- 1 root root  139 Nov  4 19:31 .dvcignore\n",
            "4 -rw-r--r-- 1 root root   17 Nov  4 19:31 firstpython.py\n",
            "4 drwxr-xr-x 8 root root 4096 Nov  4 20:36 .git\n",
            "4 -rw-r--r-- 1 root root   64 Nov  4 19:31 README.md\n",
            "4 -rw-r--r-- 1 root root   89 Nov  4 19:31 README.txt\n"
          ]
        }
      ]
    },
    {
      "cell_type": "code",
      "metadata": {
        "colab": {
          "base_uri": "https://localhost:8080/"
        },
        "id": "nBd7ApGiRd6T",
        "outputId": "aa62dd1b-6da8-484d-d491-0aa2663b3388"
      },
      "source": [
        "!pwd"
      ],
      "execution_count": null,
      "outputs": [
        {
          "output_type": "stream",
          "name": "stdout",
          "text": [
            "/content/tscd_ad2020_g3-team-grupo-3\n"
          ]
        }
      ]
    },
    {
      "cell_type": "code",
      "metadata": {
        "colab": {
          "base_uri": "https://localhost:8080/"
        },
        "id": "HnWXi2NbQ7XY",
        "outputId": "46bc22ed-1e00-4a5b-c03a-54be2cb3d6b6"
      },
      "source": [
        "# EJECUTAMOS EL COMMIT PARA INCORPORAR DVC AL REPO REMOTO\n",
        "! git commit -a -m \"subo octa.txt\""
      ],
      "execution_count": 68,
      "outputs": [
        {
          "output_type": "stream",
          "name": "stdout",
          "text": [
            "On branch main\n",
            "Untracked files:\n",
            "\t\u001b[31mocta.txt\u001b[m\n",
            "\n",
            "nothing added to commit but untracked files present\n"
          ]
        }
      ]
    },
    {
      "cell_type": "code",
      "metadata": {
        "id": "O5pXIGAJPjaN",
        "colab": {
          "base_uri": "https://localhost:8080/"
        },
        "outputId": "ecfea884-6f65-46d5-9ab0-cfa942b4c19d"
      },
      "source": [
        "# INCORPORAMOS LA INSTALACION DE DVC\n",
        "! git push origin main"
      ],
      "execution_count": null,
      "outputs": [
        {
          "output_type": "stream",
          "name": "stdout",
          "text": [
            "Everything up-to-date\n"
          ]
        }
      ]
    },
    {
      "cell_type": "markdown",
      "metadata": {
        "id": "yHIY5lMwtQYv"
      },
      "source": [
        "** YA ESTA INSTALADO E INCORPORAMOS LA INSTALACION **\n",
        "\n",
        "**INICIALIZA PROYECTO DE MACHINE LEARNING**"
      ]
    },
    {
      "cell_type": "code",
      "metadata": {
        "colab": {
          "base_uri": "https://localhost:8080/"
        },
        "id": "hyoEQ5nuDp72",
        "outputId": "07ce75cc-cc39-437b-ef27-ce4dd2195775"
      },
      "source": [
        "# DESCARGA LOS DATOS DE DVC\n",
        "!dvc get https://github.com/iterative/dataset-registry \\\n",
        "          get-started/data.xml -o data/data.xml"
      ],
      "execution_count": 72,
      "outputs": [
        {
          "output_type": "stream",
          "name": "stdout",
          "text": [
            "\u001b[0m"
          ]
        }
      ]
    },
    {
      "cell_type": "code",
      "metadata": {
        "colab": {
          "base_uri": "https://localhost:8080/"
        },
        "id": "kXXuG56PEVHb",
        "outputId": "41049fa4-95ef-4b52-aaec-edcaa4ff64fb"
      },
      "source": [
        "# AHORA INCORPORAMOS LOS DATOS EN DVC\n",
        "!dvc add data/data.xml"
      ],
      "execution_count": 73,
      "outputs": [
        {
          "output_type": "stream",
          "name": "stdout",
          "text": [
            "\u001b[?25l\u001b[32m⠋\u001b[0m Checking graph\n",
            "Adding...:   0% 0/1 [00:00<?, ?file/s{'info': ''}]\n",
            "!\u001b[A\n",
            "  0%|          |                                   0.00/? [00:00<?,        ?B/s]\u001b[A\n",
            "                                                                                \u001b[A\n",
            "Querying cache in .dvc/cache:   0% 0.00/1.00 [00:00<?, ?file/s]\u001b[A\n",
            "Querying cache in .dvc/cache:   0% 0.00/1.00 [00:00<?, ?file/s{'info': ''}]\u001b[A\n",
            "                                                                           \u001b[A\n",
            "Transferring:   0% 0/1 [00:00<?, ?file/s]\u001b[A\n",
            "Transferring:   0% 0/1 [00:00<?, ?file/s{'info': ''}]\u001b[A\n",
            "                                                     \u001b[A\n",
            ".CSkABFaKgMJm2VZggo9wZm.tmp:   0% 0.00/37.9M [00:00<?, ?it/s]\u001b[A\n",
            ".CSkABFaKgMJm2VZggo9wZm.tmp:   0% 0.00/37.9M [00:00<?, ?it/s{'info': ''}]\u001b[A\n",
            "Adding...: 100% 1/1 [00:00<00:00,  4.82file/s{'info': ''}]\n",
            "\n",
            "To track the changes with git, run:\n",
            "\n",
            "\tgit add data/.gitignore data/data.xml.dvc\n",
            "\u001b[0m"
          ]
        }
      ]
    },
    {
      "cell_type": "code",
      "metadata": {
        "colab": {
          "base_uri": "https://localhost:8080/"
        },
        "id": "mB0mf_l7EnVi",
        "outputId": "56aaf1c8-9480-43c2-a7ab-cb19fac5be78"
      },
      "source": [
        "# AHORA INCORPORAMOS LOS ARCHIVOS A GIT\n",
        "!git add data/data.xml.dvc data/.gitignore\n",
        "!git commit -m \"Add raw data\""
      ],
      "execution_count": 74,
      "outputs": [
        {
          "output_type": "stream",
          "name": "stdout",
          "text": [
            "[main 69e5f02] Add raw data\n",
            " 2 files changed, 5 insertions(+)\n",
            " create mode 100644 data/.gitignore\n",
            " create mode 100644 data/data.xml.dvc\n"
          ]
        }
      ]
    },
    {
      "cell_type": "code",
      "metadata": {
        "colab": {
          "base_uri": "https://localhost:8080/"
        },
        "id": "NGZm7ifFE-dd",
        "outputId": "31b06e9d-dcde-48c8-e643-0f4e072bf36b"
      },
      "source": [
        "# Etapas del pipeline, Estos representan procesos (código fuente rastreado con Git) que forman los pasos de una canalización . Las etapas también conectan el código a su entrada y salida de datos correspondiente . Transformemos un script de Python en un escenario : \n",
        "!wget https://code.dvc.org/get-started/code.zip\n",
        "!unzip code.zip\n",
        "!rm -f code.zip\n",
        "!tree"
      ],
      "execution_count": 75,
      "outputs": [
        {
          "output_type": "stream",
          "name": "stdout",
          "text": [
            "--2021-11-04 22:33:53--  https://code.dvc.org/get-started/code.zip\n",
            "Resolving code.dvc.org (code.dvc.org)... 172.67.164.76, 104.21.81.205, 2606:4700:3036::6815:51cd, ...\n",
            "Connecting to code.dvc.org (code.dvc.org)|172.67.164.76|:443... connected.\n",
            "HTTP request sent, awaiting response... 303 See Other\n",
            "Location: https://s3-us-east-2.amazonaws.com/dvc-public/code/get-started/code.zip [following]\n",
            "--2021-11-04 22:33:53--  https://s3-us-east-2.amazonaws.com/dvc-public/code/get-started/code.zip\n",
            "Resolving s3-us-east-2.amazonaws.com (s3-us-east-2.amazonaws.com)... 52.219.98.209\n",
            "Connecting to s3-us-east-2.amazonaws.com (s3-us-east-2.amazonaws.com)|52.219.98.209|:443... connected.\n",
            "HTTP request sent, awaiting response... 200 OK\n",
            "Length: 4634 (4.5K) [application/zip]\n",
            "Saving to: ‘code.zip’\n",
            "\n",
            "code.zip            100%[===================>]   4.53K  --.-KB/s    in 0s      \n",
            "\n",
            "2021-11-04 22:33:54 (173 MB/s) - ‘code.zip’ saved [4634/4634]\n",
            "\n",
            "Archive:  code.zip\n",
            "  inflating: params.yaml             \n",
            "  inflating: src/evaluate.py         \n",
            "  inflating: src/featurization.py    \n",
            "  inflating: src/prepare.py          \n",
            "  inflating: src/requirements.txt    \n",
            "  inflating: src/train.py            \n",
            "   creating: .github/workflows/\n",
            "  inflating: .github/workflows/cml.yaml  \n",
            "/bin/bash: tree: command not found\n"
          ]
        }
      ]
    },
    {
      "cell_type": "code",
      "metadata": {
        "colab": {
          "base_uri": "https://localhost:8080/"
        },
        "id": "6p6j6qn_F-Kd",
        "outputId": "5f8b5454-a8f5-44d0-c9dd-875c10f0ba5d"
      },
      "source": [
        "# INICIO DE ETAPA DE EJECUCION DE ML\n",
        "!pip install -r src/requirements.txt"
      ],
      "execution_count": 76,
      "outputs": [
        {
          "output_type": "stream",
          "name": "stdout",
          "text": [
            "Requirement already satisfied: pandas in /usr/local/lib/python3.7/dist-packages (from -r src/requirements.txt (line 1)) (1.1.5)\n",
            "Collecting pyaml\n",
            "  Downloading pyaml-21.10.1-py2.py3-none-any.whl (24 kB)\n",
            "Requirement already satisfied: scikit-learn in /usr/local/lib/python3.7/dist-packages (from -r src/requirements.txt (line 3)) (0.22.2.post1)\n",
            "Requirement already satisfied: scipy in /usr/local/lib/python3.7/dist-packages (from -r src/requirements.txt (line 4)) (1.4.1)\n",
            "Requirement already satisfied: python-dateutil>=2.7.3 in /usr/local/lib/python3.7/dist-packages (from pandas->-r src/requirements.txt (line 1)) (2.8.2)\n",
            "Requirement already satisfied: numpy>=1.15.4 in /usr/local/lib/python3.7/dist-packages (from pandas->-r src/requirements.txt (line 1)) (1.19.5)\n",
            "Requirement already satisfied: pytz>=2017.2 in /usr/local/lib/python3.7/dist-packages (from pandas->-r src/requirements.txt (line 1)) (2018.9)\n",
            "Requirement already satisfied: six>=1.5 in /usr/local/lib/python3.7/dist-packages (from python-dateutil>=2.7.3->pandas->-r src/requirements.txt (line 1)) (1.15.0)\n",
            "Requirement already satisfied: PyYAML in /usr/local/lib/python3.7/dist-packages (from pyaml->-r src/requirements.txt (line 2)) (3.13)\n",
            "Requirement already satisfied: joblib>=0.11 in /usr/local/lib/python3.7/dist-packages (from scikit-learn->-r src/requirements.txt (line 3)) (1.0.1)\n",
            "Installing collected packages: pyaml\n",
            "Successfully installed pyaml-21.10.1\n"
          ]
        }
      ]
    },
    {
      "cell_type": "code",
      "metadata": {
        "colab": {
          "base_uri": "https://localhost:8080/"
        },
        "id": "TM5m4zl-GHwo",
        "outputId": "a7088a0c-134b-4357-a21a-23f4058b0897"
      },
      "source": [
        "# FASE DE PREPARACION DE DATOS\n",
        "# EN PARALELO DVC CONTROLA LAS ETAPAS DE EJECUCION DE ML - ESPERAMOS EL ARCHIVO DVC.YAML\n",
        "!dvc run -n prepare \\\n",
        "          -p prepare.seed,prepare.split \\\n",
        "          -d src/prepare.py -d data/data.xml \\\n",
        "          -o data/prepared \\\n",
        "          python src/prepare.py data/data.xml"
      ],
      "execution_count": 77,
      "outputs": [
        {
          "output_type": "stream",
          "name": "stdout",
          "text": [
            "\r!\rIf DVC froze, see `hardlink_lock` in <\u001b[36mhttps://man.dvc.org/config#core\u001b[39m>\r                                                                      \rRunning stage 'prepare':\n",
            "> python src/prepare.py data/data.xml\n",
            "Computing file/dir hashes (only done once)          |0.00 [00:00,      ?md5/s]\n",
            "!\u001b[A\n",
            "  0%|          |                                   0.00/? [00:00<?,        ?B/s]\u001b[A\n",
            "                                                                                \u001b[A\n",
            "!\u001b[A\n",
            "  0%|          |                                   0.00/? [00:00<?,        ?B/s]\u001b[A\n",
            "Transferring:   0% 0/3 [00:00<?, ?file/s{'info': ''}]\n",
            "!\u001b[A\n",
            "  0%|          |b786b6e6f80e2b3fcf17827ad18597.dir 0.00/? [00:00<?,        ?B/s]\u001b[A\n",
            "b786b6e6f80e2b3fcf17827ad18597.dir:   0% 0.00/137 [00:00<?, ?B/s{'info': ''}]   \u001b[A\n",
            "Creating 'dvc.yaml'\n",
            "Adding stage 'prepare' in 'dvc.yaml'\n",
            "Generating lock file 'dvc.lock'\n",
            "Updating lock file 'dvc.lock'\n",
            "\n",
            "To track the changes with git, run:\n",
            "\n",
            "\tgit add dvc.yaml dvc.lock data/.gitignore\n",
            "\u001b[0m"
          ]
        }
      ]
    },
    {
      "cell_type": "code",
      "metadata": {
        "colab": {
          "base_uri": "https://localhost:8080/"
        },
        "id": "jTAP6b3sIX1h",
        "outputId": "74da30fa-84bf-4a18-ea8d-16390a9d1430"
      },
      "source": [
        "# FASE DE FEATURIZE -> CONVIERTE LOS DATOS CATEGORIA EN DATOS \n",
        "!dvc run -n featurize \\\n",
        "          -p featurize.max_features,featurize.ngrams \\\n",
        "          -d src/featurization.py -d data/prepared \\\n",
        "          -o data/features \\\n",
        "          python src/featurization.py data/prepared data/features"
      ],
      "execution_count": 78,
      "outputs": [
        {
          "output_type": "stream",
          "name": "stdout",
          "text": [
            "\r!\rIf DVC froze, see `hardlink_lock` in <\u001b[36mhttps://man.dvc.org/config#core\u001b[39m>\r                                                                      \rRunning stage 'featurize':\n",
            "> python src/featurization.py data/prepared data/features\n",
            "The input data frame data/prepared/train.tsv size is (20017, 3)\n",
            "tcmalloc: large alloc 1989296128 bytes == 0x563bc25be000 @  0x7f4bce65f001 0x7f4bcc1dd54f 0x7f4bcc22db58 0x7f4bcc22dd97 0x7f4bcc2c6887 0x563bbbedf4b0 0x563bbbfd0e1d 0x563bbbf52e99 0x563bbbf4d9ee 0x563bbbf4d6f3 0x563bbc0174c2 0x563bbc01783d 0x563bbc0176e6 0x563bbbfef163 0x563bbbfeee0c 0x7f4bcd447bf7 0x563bbbfeecea\n",
            "tcmalloc: large alloc 1989296128 bytes == 0x563c38ee2000 @  0x7f4bce65f001 0x7f4bcc1dd54f 0x7f4bcc22db58 0x7f4bcc22dd97 0x7f4bcc2274a5 0x7f4bcc2d2a2d 0x563bbbedf4b0 0x563bbbedf240 0x563bbbf530f3 0x563bbbf4d9ee 0x563bbbf4d6f3 0x563bbc0174c2 0x563bbc01783d 0x563bbc0176e6 0x563bbbfef163 0x563bbbfeee0c 0x7f4bcd447bf7 0x563bbbfeecea\n",
            "The output matrix data/features/train.pkl size is (20017, 502) and data type is float64\n",
            "The input data frame data/prepared/test.tsv size is (4983, 3)\n",
            "The output matrix data/features/test.pkl size is (4983, 502) and data type is float64\n",
            "Computing file/dir hashes (only done once)          |0.00 [00:00,      ?md5/s]\n",
            "!\u001b[A\n",
            "  0%|          |                                   0.00/? [00:00<?,        ?B/s]\u001b[A\n",
            "                                                                                \u001b[A\n",
            "!\u001b[A\n",
            "  0%|          |                                   0.00/? [00:00<?,        ?B/s]\u001b[A\n",
            "Transferring:   0% 0/3 [00:00<?, ?file/s{'info': ''}]\n",
            "!\u001b[A\n",
            "  0%|          |a1b6b3c807f7ffbb23566ea5f80c62.dir 0.00/? [00:00<?,        ?B/s]\u001b[A\n",
            "a1b6b3c807f7ffbb23566ea5f80c62.dir:   0% 0.00/137 [00:00<?, ?B/s{'info': ''}]   \u001b[A\n",
            "Adding stage 'featurize' in 'dvc.yaml'\n",
            "Updating lock file 'dvc.lock'\n",
            "\n",
            "To track the changes with git, run:\n",
            "\n",
            "\tgit add dvc.lock data/.gitignore dvc.yaml\n",
            "\u001b[0m"
          ]
        }
      ]
    },
    {
      "cell_type": "code",
      "metadata": {
        "colab": {
          "base_uri": "https://localhost:8080/"
        },
        "id": "IFVswXyTIYaI",
        "outputId": "65fdc88a-d5b9-419e-f309-94497db8e2e0"
      },
      "source": [
        "# FASE DE ENTRENAMIENTO\n",
        "!dvc run -n train \\\n",
        "          -p train.seed,train.n_est,train.min_split \\\n",
        "          -d src/train.py -d data/features \\\n",
        "          -o model.pkl \\\n",
        "          python src/train.py data/features model.pkl"
      ],
      "execution_count": 79,
      "outputs": [
        {
          "output_type": "stream",
          "name": "stdout",
          "text": [
            "\r!\rIf DVC froze, see `hardlink_lock` in <\u001b[36mhttps://man.dvc.org/config#core\u001b[39m>\r                                                                      \rRunning stage 'train':\n",
            "> python src/train.py data/features model.pkl\n",
            "Input matrix size (20017, 502)\n",
            "X matrix size (20017, 500)\n",
            "Y matrix size (20017,)\n",
            "Adding stage 'train' in 'dvc.yaml'\n",
            "Updating lock file 'dvc.lock'\n",
            "\n",
            "To track the changes with git, run:\n",
            "\n",
            "\tgit add .gitignore dvc.lock dvc.yaml\n",
            "\u001b[0m"
          ]
        }
      ]
    },
    {
      "cell_type": "code",
      "metadata": {
        "colab": {
          "base_uri": "https://localhost:8080/"
        },
        "id": "ycx103ogJzC0",
        "outputId": "84e791ec-2724-42d5-dbdc-0e4e8ae1bdb5"
      },
      "source": [
        "# FASE DE EVALUACION LA SALIDA ESTA EN EL ROOT\n",
        "!dvc run -n evaluate \\\n",
        "          -d src/evaluate.py -d model.pkl -d data/features \\\n",
        "          -M scores.json \\\n",
        "          --plots-no-cache prc.json \\\n",
        "          --plots-no-cache roc.json \\\n",
        "          python src/evaluate.py model.pkl \\\n",
        "                 data/features scores.json prc.json roc.json"
      ],
      "execution_count": 80,
      "outputs": [
        {
          "output_type": "stream",
          "name": "stdout",
          "text": [
            "\r!\rIf DVC froze, see `hardlink_lock` in <\u001b[36mhttps://man.dvc.org/config#core\u001b[39m>\r                                                                      \rRunning stage 'evaluate':\n",
            "> python src/evaluate.py model.pkl data/features scores.json prc.json roc.json\n",
            "Adding stage 'evaluate' in 'dvc.yaml'\n",
            "Updating lock file 'dvc.lock'\n",
            "\n",
            "To track the changes with git, run:\n",
            "\n",
            "\tgit add dvc.yaml dvc.lock\n",
            "\u001b[0m"
          ]
        }
      ]
    },
    {
      "cell_type": "code",
      "metadata": {
        "colab": {
          "base_uri": "https://localhost:8080/"
        },
        "id": "dq0ZfXWGJ_4l",
        "outputId": "8b0687d8-c44c-4d48-81b6-1e8071cc61d6"
      },
      "source": [
        "# evalua el archivo params.yaml segun sus cambios y ejecuta el que recibio modificaciones\n",
        "!dvc repro"
      ],
      "execution_count": 82,
      "outputs": [
        {
          "output_type": "stream",
          "name": "stdout",
          "text": [
            "\r!\rIf DVC froze, see `hardlink_lock` in <\u001b[36mhttps://man.dvc.org/config#core\u001b[39m>\r                                                                      \r'data/data.xml.dvc' didn't change, skipping\n",
            "Stage 'prepare' didn't change, skipping\n",
            "Stage 'featurize' didn't change, skipping\n",
            "Data and pipelines are up to date.\n",
            "\u001b[0m"
          ]
        }
      ]
    },
    {
      "cell_type": "markdown",
      "metadata": {
        "id": "QULExXgpDrfL"
      },
      "source": [
        "**COMANDOS GENERICOS GIT**"
      ]
    },
    {
      "cell_type": "code",
      "metadata": {
        "colab": {
          "base_uri": "https://localhost:8080/"
        },
        "id": "wtRbxW1FDqfD",
        "outputId": "86ebe05c-f0ea-472f-feb4-af4f57cfb9f0"
      },
      "source": [
        "# INCORPORO TODOS LOS CAMBIOS DE DVC\n",
        "!dvc add data/features"
      ],
      "execution_count": 90,
      "outputs": [
        {
          "output_type": "stream",
          "name": "stdout",
          "text": [
            "\r!\rIf DVC froze, see `hardlink_lock` in <\u001b[36mhttps://man.dvc.org/config#core\u001b[39m>\r                                                                      \r\r!\rCollecting targets          |0.00 [00:00,     ?file/s]\r                                                      \r\u001b[?25l\u001b[32m⠋\u001b[0m Checking graph\n",
            "\u001b[?25h\r\u001b[1A\u001b[2K\u001b[31mERROR\u001b[39m: output 'data/features' is already specified in stage: 'featurize'.\n",
            "\u001b[0m"
          ]
        }
      ]
    },
    {
      "cell_type": "code",
      "metadata": {
        "colab": {
          "base_uri": "https://localhost:8080/"
        },
        "id": "NEN7QyV8MBWQ",
        "outputId": "5bc8e960-5fcd-4acf-9b2c-e5c19cf63b01"
      },
      "source": [
        "!dvc status"
      ],
      "execution_count": 91,
      "outputs": [
        {
          "output_type": "stream",
          "name": "stdout",
          "text": [
            "\r!\rIf DVC froze, see `hardlink_lock` in <\u001b[36mhttps://man.dvc.org/config#core\u001b[39m>\r                                                                      \rData and pipelines are up to date.\n",
            "\u001b[0m"
          ]
        }
      ]
    },
    {
      "cell_type": "code",
      "metadata": {
        "colab": {
          "base_uri": "https://localhost:8080/"
        },
        "id": "DRqFRiP8LSPl",
        "outputId": "55733de5-5e5f-4464-f47a-5e2f75883026"
      },
      "source": [
        "%cd /content/tscd_ad2020_g3-team-grupo-3/"
      ],
      "execution_count": 87,
      "outputs": [
        {
          "output_type": "stream",
          "name": "stdout",
          "text": [
            "/content/tscd_ad2020_g3-team-grupo-3\n"
          ]
        }
      ]
    },
    {
      "cell_type": "code",
      "metadata": {
        "id": "rdox1mxXVqq-",
        "colab": {
          "base_uri": "https://localhost:8080/"
        },
        "outputId": "fa4f7623-1907-4080-86d6-0e8efc8cba73"
      },
      "source": [
        "# COMANDO CERRAMOS LA SESION EN LA RAMA\n",
        "!git checkout main"
      ],
      "execution_count": null,
      "outputs": [
        {
          "output_type": "stream",
          "name": "stdout",
          "text": [
            "Already on 'main'\n"
          ]
        }
      ]
    },
    {
      "cell_type": "code",
      "metadata": {
        "colab": {
          "base_uri": "https://localhost:8080/"
        },
        "id": "ZnEG-X27VxOp",
        "outputId": "158c53b5-d528-4834-d39f-40e6de4c310b"
      },
      "source": [
        "# VERIFICO EL ESTATUS \n",
        "!git status"
      ],
      "execution_count": 83,
      "outputs": [
        {
          "output_type": "stream",
          "name": "stdout",
          "text": [
            "On branch main\n",
            "Changes not staged for commit:\n",
            "  (use \"git add <file>...\" to update what will be committed)\n",
            "  (use \"git checkout -- <file>...\" to discard changes in working directory)\n",
            "\n",
            "\t\u001b[31mmodified:   data/.gitignore\u001b[m\n",
            "\n",
            "Untracked files:\n",
            "  (use \"git add <file>...\" to include in what will be committed)\n",
            "\n",
            "\t\u001b[31m.github/\u001b[m\n",
            "\t\u001b[31m.gitignore\u001b[m\n",
            "\t\u001b[31mdvc.lock\u001b[m\n",
            "\t\u001b[31mdvc.yaml\u001b[m\n",
            "\t\u001b[31mparams.yaml\u001b[m\n",
            "\t\u001b[31mprc.json\u001b[m\n",
            "\t\u001b[31mroc.json\u001b[m\n",
            "\t\u001b[31mscores.json\u001b[m\n",
            "\t\u001b[31msrc/\u001b[m\n",
            "\n",
            "no changes added to commit (use \"git add\" and/or \"git commit -a\")\n"
          ]
        }
      ]
    },
    {
      "cell_type": "code",
      "metadata": {
        "colab": {
          "base_uri": "https://localhost:8080/"
        },
        "id": "EfryC6m-V1Xo",
        "outputId": "9137d8b2-d42e-425e-ff49-adeb5feec071"
      },
      "source": [
        "!git checkout rama_octa"
      ],
      "execution_count": null,
      "outputs": [
        {
          "output_type": "stream",
          "name": "stdout",
          "text": [
            "error: pathspec 'rama_octa' did not match any file(s) known to git.\n"
          ]
        }
      ]
    },
    {
      "cell_type": "code",
      "metadata": {
        "id": "28Tdb-DyWSPi"
      },
      "source": [
        "# Syncro todos los archivos\n",
        "!git add ."
      ],
      "execution_count": 92,
      "outputs": []
    },
    {
      "cell_type": "code",
      "metadata": {
        "colab": {
          "base_uri": "https://localhost:8080/"
        },
        "id": "v83-A64XC4Ca",
        "outputId": "612eefe1-1835-4134-c604-3fb995aa6e66"
      },
      "source": [
        "# EJECUTAMOS EL COMMIT PARA INCORPORAR DVC AL REPO REMOTO\n",
        "! git commit -a -m \"subo todo lo de dvc\""
      ],
      "execution_count": 93,
      "outputs": [
        {
          "output_type": "stream",
          "name": "stdout",
          "text": [
            "[main 9abc0ed] subo todo lo de dvc\n",
            " 14 files changed, 697 insertions(+)\n",
            " create mode 100644 .github/workflows/cml.yaml\n",
            " create mode 100644 .gitignore\n",
            " create mode 100644 dvc.lock\n",
            " create mode 100644 dvc.yaml\n",
            " create mode 100644 params.yaml\n",
            " create mode 100644 prc.json\n",
            " create mode 100644 roc.json\n",
            " create mode 100644 scores.json\n",
            " create mode 100644 src/evaluate.py\n",
            " create mode 100644 src/featurization.py\n",
            " create mode 100644 src/prepare.py\n",
            " create mode 100644 src/requirements.txt\n",
            " create mode 100644 src/train.py\n"
          ]
        }
      ]
    },
    {
      "cell_type": "code",
      "metadata": {
        "colab": {
          "base_uri": "https://localhost:8080/"
        },
        "id": "l_i3Ee0gWnOv",
        "outputId": "2f61996a-43ad-492b-bf86-371fabd5d0cf"
      },
      "source": [
        "! git push origin main"
      ],
      "execution_count": 94,
      "outputs": [
        {
          "output_type": "stream",
          "name": "stdout",
          "text": [
            "Counting objects: 25, done.\n",
            "Delta compression using up to 2 threads.\n",
            "Compressing objects:   5% (1/19)   \rCompressing objects:  10% (2/19)   \rCompressing objects:  15% (3/19)   \rCompressing objects:  21% (4/19)   \rCompressing objects:  26% (5/19)   \rCompressing objects:  31% (6/19)   \rCompressing objects:  36% (7/19)   \rCompressing objects:  42% (8/19)   \rCompressing objects:  47% (9/19)   \rCompressing objects:  52% (10/19)   \rCompressing objects:  57% (11/19)   \rCompressing objects:  63% (12/19)   \rCompressing objects:  68% (13/19)   \rCompressing objects:  73% (14/19)   \rCompressing objects:  78% (15/19)   \rCompressing objects:  84% (16/19)   \rCompressing objects:  89% (17/19)   \rCompressing objects:  94% (18/19)   \rCompressing objects: 100% (19/19)   \rCompressing objects: 100% (19/19), done.\n",
            "Writing objects:   4% (1/25)   \rWriting objects:   8% (2/25)   \rWriting objects:  12% (3/25)   \rWriting objects:  16% (4/25)   \rWriting objects:  20% (5/25)   \rWriting objects:  24% (6/25)   \rWriting objects:  28% (7/25)   \rWriting objects:  32% (8/25)   \rWriting objects:  36% (9/25)   \rWriting objects:  40% (10/25)   \rWriting objects:  44% (11/25)   \rWriting objects:  48% (12/25)   \rWriting objects:  52% (13/25)   \rWriting objects:  56% (14/25)   \rWriting objects:  60% (15/25)   \rWriting objects:  64% (16/25)   \rWriting objects:  68% (17/25)   \rWriting objects:  72% (18/25)   \rWriting objects:  76% (19/25)   \rWriting objects:  80% (20/25)   \rWriting objects:  84% (21/25)   \rWriting objects:  88% (22/25)   \rWriting objects:  92% (23/25)   \rWriting objects:  96% (24/25)   \rWriting objects: 100% (25/25)   \rWriting objects: 100% (25/25), 6.71 KiB | 3.35 MiB/s, done.\n",
            "Total 25 (delta 2), reused 0 (delta 0)\n",
            "remote: Resolving deltas:   0% (0/2)\u001b[K\rremote: Resolving deltas:  50% (1/2)\u001b[K\rremote: Resolving deltas: 100% (2/2)\u001b[K\rremote: Resolving deltas: 100% (2/2), done.\u001b[K\n",
            "To https://github.com/ISPC2020/tscd_ad2020_g3-team-grupo-3.git\n",
            "   5749589..9abc0ed  main -> main\n"
          ]
        }
      ]
    }
  ]
}